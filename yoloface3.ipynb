{
 "cells": [
  {
   "cell_type": "code",
   "execution_count": 1,
   "metadata": {},
   "outputs": [],
   "source": [
    "import os\n",
    "os.environ['KMP_DUPLICATE_LIB_OK'] = 'True'\n"
   ]
  },
  {
   "cell_type": "code",
   "execution_count": 2,
   "metadata": {},
   "outputs": [],
   "source": [
    "import cv2\n",
    "from sort import Sort  # Importing the SORT tracking algorithm\n",
    "import numpy as np\n"
   ]
  },
  {
   "cell_type": "code",
   "execution_count": 5,
   "metadata": {},
   "outputs": [
    {
     "name": "stderr",
     "output_type": "stream",
     "text": [
      "c:\\Users\\hp\\Desktop\\yolo\\yolov8-face\\ultralytics\\nn\\tasks.py:362: FutureWarning: You are using `torch.load` with `weights_only=False` (the current default value), which uses the default pickle module implicitly. It is possible to construct malicious pickle data which will execute arbitrary code during unpickling (See https://github.com/pytorch/pytorch/blob/main/SECURITY.md#untrusted-models for more details). In a future release, the default value for `weights_only` will be flipped to `True`. This limits the functions that could be executed during unpickling. Arbitrary objects will no longer be allowed to be loaded via this mode unless they are explicitly allowlisted by the user via `torch.serialization.add_safe_globals`. We recommend you start setting `weights_only=True` for any use case where you don't have full control of the loaded file. Please open an issue on GitHub for any issues related to this experimental feature.\n",
      "  ckpt = torch.load(weight, map_location='cpu')  # load\n",
      "Ultralytics YOLOv8.0.17  Python-3.11.7 torch-2.4.1+cpu CPU\n",
      "Model summary (fused): 168 layers, 3005843 parameters, 0 gradients, 8.1 GFLOPs\n"
     ]
    },
    {
     "name": "stdout",
     "output_type": "stream",
     "text": [
      "Number of unique faces detected: 131\n"
     ]
    }
   ],
   "source": [
    "\n",
    "from ultralytics import YOLO\n",
    "# Load YOLOv8 face detection model\n",
    "model = YOLO('yolov8n-face.pt')\n",
    "\n",
    "# Initialize SORT tracker\n",
    "tracker = Sort()\n",
    "\n",
    "\n",
    "# Open video file or webcam\n",
    "video_path = 'test_video.mp4'  # or use 0 for webcam\n",
    "cap = cv2.VideoCapture(video_path)\n",
    "\n",
    "# Get video writer ready to save output video\n",
    "fourcc = cv2.VideoWriter_fourcc(*'mp4v')  # Codec\n",
    "output_path = 'output_3.mp4'\n",
    "out = cv2.VideoWriter(output_path, fourcc, 30.0, (int(cap.get(3)), int(cap.get(4))))\n",
    "\n",
    "# Initialize face counting\n",
    "unique_faces = set()\n",
    "frame_count = 0\n",
    "\n",
    "# Set confidence threshold\n",
    "confidence_threshold = 0.1\n",
    "\n",
    "while cap.isOpened():\n",
    "    ret, frame = cap.read()\n",
    "    if not ret:\n",
    "        break\n",
    "\n",
    "    # Run inference on the frame\n",
    "    results = model(frame)\n",
    "\n",
    "    # Extract bounding boxes and confidence scores\n",
    "    detections = []\n",
    "    boxes = results[0].boxes  # YOLOv8 bounding boxes\n",
    "\n",
    "    for box in boxes:\n",
    "        x1, y1, x2, y2 = map(int, box.xyxy[0])  # Coordinates\n",
    "        conf = box.conf[0]  # Confidence\n",
    "        cls = int(box.cls[0])  # Class (0 = face)\n",
    "        \n",
    "        # Apply confidence threshold\n",
    "        if cls == 0 and conf >= confidence_threshold:  # Class 0 is face in the custom model\n",
    "            detections.append([x1, y1, x2, y2, conf])\n",
    "\n",
    "    # Update tracker with detections\n",
    "    if len(detections) > 0:\n",
    "        trackers = tracker.update(np.array(detections))\n",
    "        \n",
    "        # Update the set of unique face IDs\n",
    "        for track in trackers:\n",
    "            unique_faces.add(int(track[4]))  # Assuming the 5th element is the track ID\n",
    "\n",
    "        # Draw bounding boxes and tracker IDs\n",
    "        for track in trackers:\n",
    "            x1, y1, x2, y2, track_id = map(int, track)\n",
    "            cv2.rectangle(frame, (x1, y1), (x2, y2), (0, 255, 0), 2)\n",
    "            cv2.putText(frame, f'ID: {track_id}', (x1, y1 - 10), cv2.FONT_HERSHEY_SIMPLEX, 0.9, (0, 255, 0), 2)\n",
    "\n",
    "    # Save the frame with bounding boxes to the output video\n",
    "    out.write(frame)\n",
    "\n",
    "    # Display the frame (optional)\n",
    "    cv2.imshow('YOLOv8 Face Detection with Tracking', frame)\n",
    "    if cv2.waitKey(1) & 0xFF == ord('q'):\n",
    "        break\n",
    "\n",
    "# Release video capture, video writer, and close windows\n",
    "cap.release()\n",
    "out.release()\n",
    "cv2.destroyAllWindows()\n",
    "\n",
    "# Print number of unique faces detected\n",
    "print(f'Number of unique faces detected: {len(unique_faces)}')\n",
    "\n"
   ]
  },
  {
   "cell_type": "code",
   "execution_count": null,
   "metadata": {},
   "outputs": [],
   "source": []
  }
 ],
 "metadata": {
  "kernelspec": {
   "display_name": "base",
   "language": "python",
   "name": "python3"
  },
  "language_info": {
   "codemirror_mode": {
    "name": "ipython",
    "version": 3
   },
   "file_extension": ".py",
   "mimetype": "text/x-python",
   "name": "python",
   "nbconvert_exporter": "python",
   "pygments_lexer": "ipython3",
   "version": "3.11.7"
  }
 },
 "nbformat": 4,
 "nbformat_minor": 2
}
